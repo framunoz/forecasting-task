{
 "cells": [
  {
   "cell_type": "code",
   "execution_count": null,
   "id": "24e08bdb-601b-43c5-9bf4-fc369dedce6e",
   "metadata": {},
   "outputs": [],
   "source": [
    "from itertools import product\n",
    "from pathlib import Path\n",
    "\n",
    "import matplotlib as mpl\n",
    "import matplotlib.pyplot as plt\n",
    "import missingno as msno\n",
    "import numpy as np\n",
    "import pandas as pd\n",
    "import seaborn as sns\n",
    "import xarray as xr"
   ]
  },
  {
   "cell_type": "code",
   "execution_count": null,
   "id": "5f70181c",
   "metadata": {},
   "outputs": [],
   "source": [
    "SHOW_PLOTS = False  # Flag to control plot display\n",
    "SAVE_PLOTS = False  # Flag to save generated plots"
   ]
  },
  {
   "cell_type": "code",
   "execution_count": null,
   "id": "912b6581-6aaf-4075-bf79-988291568da7",
   "metadata": {},
   "outputs": [],
   "source": [
    "PROJECT_PATH = Path(\".\")\n",
    "\n",
    "DATA_PATH = PROJECT_PATH / \"data\"\n",
    "DATA_RAW_PATH = DATA_PATH / \"01_raw\"\n",
    "\n",
    "IMG_PATH = PROJECT_PATH / \"imgs\"\n",
    "\n",
    "CHLOROPHYLL_DATA_PATH = (\n",
    "    DATA_RAW_PATH / \"chl_cmems_obs-oc_glo_bgc-plankton_my_l4-gapfree-multi-4km_P1D.nc\"\n",
    ")"
   ]
  },
  {
   "cell_type": "markdown",
   "id": "b76bf656",
   "metadata": {},
   "source": [
    "# Data Loading and Preprocessing"
   ]
  },
  {
   "cell_type": "markdown",
   "id": "ae9edd95",
   "metadata": {},
   "source": [
    "The dataset is loaded using xarray. Column names \"longitude\" and \"latitude\" are renamed to \"lon\" and \"lat\" respectively, simplifying variable access."
   ]
  },
  {
   "cell_type": "markdown",
   "id": "72e5cfd1",
   "metadata": {},
   "source": [
    "## Loading and Initial Inspection\n"
   ]
  },
  {
   "cell_type": "code",
   "execution_count": null,
   "id": "73e26af2",
   "metadata": {},
   "outputs": [],
   "source": [
    "ds = xr.open_dataset(CHLOROPHYLL_DATA_PATH, engine=\"netcdf4\")\n",
    "ds = ds.rename({\"longitude\": \"lon\", \"latitude\": \"lat\"})\n",
    "\n",
    "lat_min, lat_max = float(ds.lat.min()), float(ds.lat.max())\n",
    "lon_min, lon_max = float(ds.lon.min()), float(ds.lon.max())\n",
    "boundaries = (lon_min, lat_min, lon_max, lat_max)\n",
    "centroid = ((lat_min + lat_max) / 2, (lon_min + lon_max) / 2)\n",
    "\n",
    "POI = LAT_POI, LON_POI = -23.627534, -70.396026"
   ]
  },
  {
   "cell_type": "code",
   "execution_count": null,
   "id": "1e0e9005",
   "metadata": {},
   "outputs": [],
   "source": [
    "# Get the quantiles of chlorophyll-a concentration\n",
    "q_01, q_99 = ds[\"CHL\"].quantile([0.01, 0.99], method=\"closest_observation\").values\n",
    "print(f\"Quantiles: {q_01 = :.2f}, {q_99 = :.2f}\")"
   ]
  },
  {
   "cell_type": "markdown",
   "id": "447bc107",
   "metadata": {},
   "source": [
    "## Initial Visualisation"
   ]
  },
  {
   "cell_type": "markdown",
   "id": "006ad442",
   "metadata": {},
   "source": [
    "A preliminary visualization of the chlorophyll concentration across the dataset's spatial extent is performed."
   ]
  },
  {
   "cell_type": "code",
   "execution_count": null,
   "id": "774f90f3",
   "metadata": {},
   "outputs": [],
   "source": [
    "from matplotlib.figure import Figure\n",
    "from matplotlib.axes import Axes\n",
    "from matplotlib.colors import Colormap\n",
    "\n",
    "\n",
    "def plot_chlorophyll(\n",
    "    ds: xr.Dataset,\n",
    "    time_index: int,\n",
    "    fig: Figure = None,\n",
    "    ax: Axes = None,\n",
    "    title: str | None = None,\n",
    "    colorbar: bool = True,\n",
    "    vmin: float = q_01,\n",
    "    vmax: float = q_99,\n",
    "    cmap: str | Colormap | None = None,\n",
    ") -> tuple[Figure, Axes]:\n",
    "    \"\"\"\n",
    "    Plot chlorophyll-a concentration from a dataset.\n",
    "\n",
    "    :param ds: xarray dataset containing chlorophyll-a data.\n",
    "    :param time_index: Index of the time dimension to plot. Must be an integer.\n",
    "    :param fig: Matplotlib figure object. If None, a new figure is created.\n",
    "    :param ax: Matplotlib axes object. If None, a new axes is created.\n",
    "    :param title: Title of the plot. If None, a default title is generated.\n",
    "    :param colorbar: Whether to display a colorbar. Default is True.\n",
    "    :param vmin: Minimum value for color mapping. Default is the 1st percentile of chlorophyll-a data.\n",
    "    :param vmax: Maximum value for color mapping. Default is the 99th percentile of chlorophyll-a data.\n",
    "    :param cmap: Colormap to use for the plot. Default is \"jet\".\n",
    "    :return: Tuple of the figure and axes objects.\n",
    "    \"\"\"\n",
    "\n",
    "    if fig is None or ax is None:\n",
    "        fig, ax = plt.subplots(figsize=(10, 6))\n",
    "\n",
    "    lat = ds.lat.data\n",
    "    lon = ds.lon.data\n",
    "    chl = ds.CHL.data\n",
    "\n",
    "    pcolormesh_kwargs = dict(\n",
    "        shading=\"auto\", cmap=cmap or sns.color_palette(\"viridis\", as_cmap=True)\n",
    "    )\n",
    "\n",
    "    pcolormesh_kwargs[\"vmin\"] = vmin\n",
    "    pcolormesh_kwargs[\"vmax\"] = vmax\n",
    "\n",
    "    mesh = ax.pcolormesh(lon, lat, chl[time_index, :, :], **pcolormesh_kwargs)\n",
    "\n",
    "    # Plot the point of interest\n",
    "    ax.plot(\n",
    "        LON_POI,\n",
    "        LAT_POI,\n",
    "        marker=\"o\",\n",
    "        color=\"red\",\n",
    "        markersize=8,\n",
    "        label=\"Point of Interest\",\n",
    "    )\n",
    "\n",
    "    if colorbar:\n",
    "        colorbar_kwargs = dict(ax=ax, label=\"Chlorophyll-a concentration (mg/m³)\")\n",
    "\n",
    "        colorbar_kwargs[\"extend\"] = \"both\"\n",
    "        cbar = fig.colorbar(mesh, **colorbar_kwargs)\n",
    "        cbar.cmap.set_under(\"gray\")\n",
    "        cbar.cmap.set_over(\"magenta\")\n",
    "\n",
    "    title = (\n",
    "        title\n",
    "        or f\"Chlorophyll-a concentration on {str(ds.time[time_index].values)[:10]}\"\n",
    "    )\n",
    "\n",
    "    ax.set_title(title)\n",
    "    ax.set_xlabel(\"Longitude\")\n",
    "    ax.set_ylabel(\"Latitude\")\n",
    "\n",
    "    ax.set_aspect(\"equal\", adjustable=\"box\")\n",
    "\n",
    "    return fig, ax"
   ]
  },
  {
   "cell_type": "code",
   "execution_count": null,
   "id": "3ead36f1",
   "metadata": {},
   "outputs": [],
   "source": [
    "plot_chlorophyll(ds, 0)\n",
    "plt.show()"
   ]
  },
  {
   "cell_type": "markdown",
   "id": "596109c4",
   "metadata": {},
   "source": [
    "## Research of Missing Values"
   ]
  },
  {
   "cell_type": "markdown",
   "id": "5b54247c",
   "metadata": {},
   "source": [
    "The initial plot reveals a large, persistent region of missing values (likely land/coast). \n",
    "\n",
    "Google Earth Engine is used to visually confirm the geography of this area."
   ]
  },
  {
   "cell_type": "code",
   "execution_count": null,
   "id": "e99374a2",
   "metadata": {},
   "outputs": [],
   "source": [
    "%%script false --no-raise-error\n",
    "import ee\n",
    "import geemap\n",
    "\n",
    "\n",
    "ee.Authenticate()\n",
    "ee.Initialize()\n",
    "\n",
    "region = ee.Geometry.Rectangle(boundaries)\n",
    "\n",
    "\n",
    "def mask_clouds(image):\n",
    "    # Select the QA60 band and create a cloud mask\n",
    "    qa = image.select(\"QA60\")\n",
    "    cloudBitMask = 1 << 10\n",
    "    cirrusBitMask = 1 << 11\n",
    "    mask = qa.bitwiseAnd(cloudBitMask).eq(0).And(qa.bitwiseAnd(cirrusBitMask).eq(0))\n",
    "    # Apply the cloud mask to the image\n",
    "    return image.updateMask(mask).divide(10000)\n",
    "\n",
    "\n",
    "# Select the Sentinel-2 image collection\n",
    "collection = (\n",
    "    ee.ImageCollection(\"COPERNICUS/S2_SR_HARMONIZED\")\n",
    "    .filterBounds(region)\n",
    "    .filterDate(\"2021-01-01\", \"2021-12-31\")\n",
    "    .map(mask_clouds)\n",
    ")\n",
    "\n",
    "vis_params = dict(bands=[\"B4\", \"B3\", \"B2\"], min=0, max=0.3)\n",
    "\n",
    "Map = geemap.Map(center=centroid, zoom=6)\n",
    "\n",
    "Map.addLayer(collection.mosaic().clip(region), vis_params, \"Sentinel-2 Copernicus\")\n",
    "Map.addLayer(region, {}, \"Region of Interest\")\n",
    "Map.addLayerControl()\n",
    "\n",
    "Map"
   ]
  },
  {
   "cell_type": "markdown",
   "id": "291184f1",
   "metadata": {},
   "source": [
    "As suspected, the systematically missing region corresponds to the coastline. Next, we examine multiple time steps to understand the occurrence of sporadic missing data over the ocean."
   ]
  },
  {
   "cell_type": "code",
   "execution_count": null,
   "id": "f787b3d8",
   "metadata": {},
   "outputs": [],
   "source": [
    "def plot_chlorophyll_grid(\n",
    "    ds: xr.Dataset,\n",
    "    n_row: int = 8,\n",
    "    n_col: int = 6,\n",
    "    titles: list[str] | None = None,\n",
    "    figsize: tuple[int, int] = (15, 20),\n",
    ") -> tuple[Figure, Axes]:\n",
    "    \"\"\"\n",
    "    Plot a grid of the first n_row * n_col chlorophyll-a concentration images\n",
    "    from a dataset.\n",
    "\n",
    "    :param ds: xarray dataset containing chlorophyll-a data.\n",
    "    :param n_row: Number of rows in the grid. Default is 8.\n",
    "    :param n_col: Number of columns in the grid. Default is 6.\n",
    "    :return: Tuple of the figure and axes objects.\n",
    "    \"\"\"\n",
    "\n",
    "    if titles is not None:\n",
    "        assert len(titles) == n_row * n_col, \"Number of titles must match grid size.\"\n",
    "\n",
    "    fig, axs = plt.subplots(n_row, n_col, figsize=figsize)\n",
    "\n",
    "    ds = ds.sel(time=ds.time[: n_row * n_col])\n",
    "    q_01, q_99 = ds[\"CHL\"].quantile([0.01, 0.99], method=\"closest_observation\").values\n",
    "\n",
    "    for i, j in product(range(n_row), range(n_col)):\n",
    "        time_index = i * n_col + j\n",
    "\n",
    "        title = (\n",
    "            titles[time_index] if titles else f\"{str(ds.time[time_index].values)[:10]}\"\n",
    "        )\n",
    "\n",
    "        plot_chlorophyll(\n",
    "            ds,\n",
    "            time_index,\n",
    "            fig,\n",
    "            axs[i, j],\n",
    "            colorbar=False,\n",
    "            title=title,\n",
    "            vmin=q_01,\n",
    "            vmax=q_99,\n",
    "        )\n",
    "\n",
    "        if j != 0:\n",
    "            axs[i, j].set_ylabel(\"\")\n",
    "            axs[i, j].set_yticklabels([])\n",
    "\n",
    "        if i != n_row - 1:\n",
    "            axs[i, j].set_xlabel(\"\")\n",
    "            axs[i, j].set_xticklabels([])\n",
    "\n",
    "    cbar = fig.colorbar(\n",
    "        axs[0, 0].collections[0],\n",
    "        ax=axs[:, :],\n",
    "        label=\"Chlorophyll-a concentration (mg/m³)\",\n",
    "        location=\"right\",\n",
    "        shrink=0.8,\n",
    "    )\n",
    "    cbar.cmap.set_under(\"gray\")\n",
    "    cbar.cmap.set_over(\"magenta\")\n",
    "\n",
    "    return fig, axs\n",
    "\n",
    "\n",
    "plot_chlorophyll_grid(ds, n_row=8, n_col=6)\n",
    "plt.show()"
   ]
  },
  {
   "cell_type": "markdown",
   "id": "fe7999f6",
   "metadata": {},
   "source": [
    "The grid plot confirms that sporadic missing data exists over the ocean area at various times. To analyze the temporal pattern of missingness, we select a specific coordinate within the ocean and examine its time series."
   ]
  },
  {
   "cell_type": "code",
   "execution_count": null,
   "id": "171fffb3",
   "metadata": {},
   "outputs": [],
   "source": [
    "chl_da = ds[\"CHL\"].sel(lat=-24, lon=-72, method=\"nearest\")\n",
    "chl_np = chl_da.values"
   ]
  },
  {
   "cell_type": "code",
   "execution_count": null,
   "id": "a003439b",
   "metadata": {},
   "outputs": [],
   "source": [
    "# Let's check the number of NaN values in the array\n",
    "print(\n",
    "    f\"Number of NaN values: {int(np.isnan(chl_np).sum())} / {chl_np.size} \"\n",
    "    f\"({float(np.isnan(chl_np).sum() / chl_np.size * 100):.2f}%)\"\n",
    ")"
   ]
  },
  {
   "cell_type": "code",
   "execution_count": null,
   "id": "2bc8a172",
   "metadata": {},
   "outputs": [],
   "source": [
    "df = pd.DataFrame({\"CHL\": chl_np})\n",
    "\n",
    "msno.matrix(df)\n",
    "plt.show()"
   ]
  },
  {
   "cell_type": "markdown",
   "id": "c2148e29",
   "metadata": {},
   "source": [
    "The missingness matrix indicates that most missing values occur at the beginning of the time series. A zoomed-in view will provide more detail."
   ]
  },
  {
   "cell_type": "code",
   "execution_count": null,
   "id": "4f2b6125",
   "metadata": {},
   "outputs": [],
   "source": [
    "msno.matrix(df[:2000])\n",
    "plt.show()"
   ]
  },
  {
   "cell_type": "markdown",
   "id": "210574c0",
   "metadata": {},
   "source": [
    "It can be seen that over the time series there are 24 occasions where there is no data. This may be due to the presence of clouds at the time of image acquisition.\n",
    "\n",
    "In this case, since there are so few missing values, the values can be interpolated. For the sake of speed and simplicity, linear interpolation will be used. If this is found to affect the result, one can switch to a more robust interpolation, such as spline or linear RBF, albeit sacrificing more computational time for such a small amount of data.\n",
    "\n",
    "Furthermore, one could use the methods mentioned in the paper [Ferreira, 2021](https://doi.org/10.3390/rs13040675), which mention the 3-step gap-filling algorithm [Sasaoka, 2011](https://doi.org/10.1016/j.rse.2014.05.016), and the 3-week centred moving mean algorithm [Ferreira, 2014](https://doi.org/10.1002/2014JC010323). These methods could be implemented in the future to improve the analysis."
   ]
  },
  {
   "cell_type": "markdown",
   "id": "77487d56",
   "metadata": {},
   "source": [
    "## Missing Data Handling"
   ]
  },
  {
   "cell_type": "code",
   "execution_count": null,
   "id": "f82c8907",
   "metadata": {},
   "outputs": [],
   "source": [
    "# interpolate nan\n",
    "ds = ds.interpolate_na(dim=\"time\", method=\"linear\")\n",
    "\n",
    "plot_chlorophyll_grid(ds, n_row=8, n_col=6)\n",
    "plt.show()"
   ]
  },
  {
   "cell_type": "markdown",
   "id": "0e3e44b1",
   "metadata": {},
   "source": [
    "Additionally, the coastal region, identified by persistent missing values (NaNs) even after temporal interpolation, is removed as it is not relevant to the oceanic chlorophyll analysis."
   ]
  },
  {
   "cell_type": "code",
   "execution_count": null,
   "id": "77d65c07",
   "metadata": {},
   "outputs": [],
   "source": [
    "lon_max = ds.lon.where(~np.isnan(ds.CHL[0, :, :])).max()\n",
    "\n",
    "ds = ds.sel(lat=slice(lat_min, lat_max), lon=slice(lon_min, lon_max))\n",
    "\n",
    "plot_chlorophyll(ds, 0)\n",
    "plt.show()"
   ]
  },
  {
   "cell_type": "code",
   "execution_count": null,
   "id": "2173fb3b",
   "metadata": {},
   "outputs": [],
   "source": [
    "plot_chlorophyll_grid(ds, n_row=8, n_col=6)\n",
    "plt.show()"
   ]
  },
  {
   "cell_type": "markdown",
   "id": "a956573d",
   "metadata": {},
   "source": [
    "Finally, any remaining null values, primarily located in the persistent coastal region identified earlier, must be handled. \n",
    "\n",
    "These cannot be interpolated reliably (as they likely represent land or very shallow/complex waters not captured well by the dataset resolution) and filling them with arbitrary values could lead to erroneous conclusions. Therefore, a spatial mask is created to identify valid ocean pixels for analysis."
   ]
  },
  {
   "cell_type": "code",
   "execution_count": null,
   "id": "4868f32e",
   "metadata": {},
   "outputs": [],
   "source": [
    "mask = ds.CHL.notnull().all(dim=\"time\")\n",
    "fig, ax = plt.subplots()\n",
    "\n",
    "mask.plot()\n",
    "ax.set_aspect(\"equal\", adjustable=\"box\")"
   ]
  },
  {
   "cell_type": "markdown",
   "id": "e8c159d8",
   "metadata": {},
   "source": [
    "# Exploratory Data Analysis"
   ]
  },
  {
   "cell_type": "markdown",
   "id": "3f06eb80",
   "metadata": {},
   "source": [
    "> How is chlorophyll distributed over the course of a year?\n",
    "\n",
    "To answer this question, the average chlorophyll per month will be calculated and the results plotted."
   ]
  },
  {
   "cell_type": "code",
   "execution_count": null,
   "id": "2507394a",
   "metadata": {},
   "outputs": [],
   "source": [
    "def plot_chlorophyll_yearly(\n",
    "    ds: xr.Dataset, year: str\n",
    ") -> tuple[Figure, np.ndarray[Axes]]:\n",
    "    \"\"\"\n",
    "    Plot a 12 months average chlorophyll-a concentration from a dataset.\n",
    "\n",
    "    :param ds: xarray dataset containing chlorophyll-a data.\n",
    "    :param year: Year to plot. Must be a string in the format \"YYYY\".\n",
    "    :return: Tuple of the figure and axes objects.\n",
    "    \"\"\"\n",
    "\n",
    "    ds_ = ds.sel(time=slice(f\"{year}-01-01\", f\"{year}-12-31\"))\n",
    "    ds_ = ds_.resample(time=\"ME\").mean()\n",
    "\n",
    "    months_names = [\n",
    "        \"January\",\n",
    "        \"February\",\n",
    "        \"March\",\n",
    "        \"April\",\n",
    "        \"May\",\n",
    "        \"June\",\n",
    "        \"July\",\n",
    "        \"August\",\n",
    "        \"September\",\n",
    "        \"October\",\n",
    "        \"November\",\n",
    "        \"December\",\n",
    "    ]\n",
    "\n",
    "    rearrange = [0, 3, 6, 9, 1, 4, 7, 10, 2, 5, 8, 11]\n",
    "    months_names = [months_names[i] for i in rearrange]\n",
    "    ds_ = ds_.isel(time=rearrange)\n",
    "\n",
    "    fig, axs = plot_chlorophyll_grid(\n",
    "        ds_, n_row=3, n_col=4, titles=months_names, figsize=(10, 10)\n",
    "    )\n",
    "    fig.suptitle(f\"Chlorophyll-a concentration in {year}\", fontsize=16)\n",
    "\n",
    "    return fig, axs\n",
    "\n",
    "\n",
    "plot_chlorophyll_yearly(ds, \"1998\")\n",
    "plt.show()"
   ]
  },
  {
   "cell_type": "code",
   "execution_count": null,
   "id": "4a710776",
   "metadata": {},
   "outputs": [],
   "source": [
    "def plot_chlorophyll_seasonly(\n",
    "    ds: xr.Dataset, year: str\n",
    ") -> tuple[Figure, np.ndarray[Axes]]:\n",
    "    \"\"\"\n",
    "    Plot the 4 seasons in a year.\n",
    "\n",
    "    :param ds: xarray dataset containing chlorophyll-a data.\n",
    "    :param year: Year to plot. Must be a string in the format \"YYYY\".\n",
    "    :return: Tuple of the figure and axes objects.\n",
    "    \"\"\"\n",
    "\n",
    "    ds_ = ds.sel(time=slice(f\"{int(year)-1}-12-21\", f\"{year}-12-21\"))\n",
    "    ds_ = ds_.resample(time=\"3MS\").mean()\n",
    "\n",
    "    season_names = [\"Summer\", \"Autumn\", \"Winter\", \"Spring\"]\n",
    "\n",
    "    fig, axs = plot_chlorophyll_grid(\n",
    "        ds_, n_row=2, n_col=2, titles=season_names, figsize=(10, 10)\n",
    "    )\n",
    "    fig.suptitle(f\"Chlorophyll-a concentration in {year}\", fontsize=16)\n",
    "\n",
    "    return fig, axs\n",
    "\n",
    "\n",
    "plot_chlorophyll_seasonly(ds, \"2000\")\n",
    "plt.show()"
   ]
  },
  {
   "cell_type": "markdown",
   "id": "50616f00",
   "metadata": {},
   "source": [
    "Each year will be plotted to observe patterns or anomalies over time."
   ]
  },
  {
   "cell_type": "code",
   "execution_count": null,
   "id": "c3ce4d6f",
   "metadata": {},
   "outputs": [],
   "source": [
    "year_init, year_end = 2023, 2024\n",
    "year_init, year_end = 1998, 2024\n",
    "\n",
    "PATH_PLOT_CHL_YEARLY = IMG_PATH / \"chl_yearly\"\n",
    "PATH_PLOT_CHL_SEASONLY = IMG_PATH / \"chl_seasonly\"\n",
    "PATH_PLOT_CHL_YEARLY.mkdir(parents=True, exist_ok=True)\n",
    "PATH_PLOT_CHL_SEASONLY.mkdir(parents=True, exist_ok=True)\n",
    "\n",
    "\n",
    "# If any option (save or show plots) are eneabled, then run this code\n",
    "if SAVE_PLOTS or SHOW_PLOTS:\n",
    "    for year in range(year_init, year_end):\n",
    "        fig, axs = plot_chlorophyll_yearly(ds, str(year))\n",
    "\n",
    "        if SAVE_PLOTS:\n",
    "            fig.savefig(\n",
    "                PATH_PLOT_CHL_YEARLY / f\"chl_yearly_{year}.png\", bbox_inches=\"tight\"\n",
    "            )\n",
    "\n",
    "        if SHOW_PLOTS:\n",
    "            plt.show()\n",
    "        else:\n",
    "            plt.close(fig)\n",
    "\n",
    "        fig, axs = plot_chlorophyll_seasonly(ds, str(year))\n",
    "\n",
    "        if SAVE_PLOTS:\n",
    "            fig.savefig(\n",
    "                PATH_PLOT_CHL_SEASONLY / f\"chl_seasonly_{year}.png\", bbox_inches=\"tight\"\n",
    "            )\n",
    "\n",
    "        if SHOW_PLOTS:\n",
    "            plt.show()\n",
    "        else:\n",
    "            plt.close(fig)"
   ]
  },
  {
   "cell_type": "markdown",
   "id": "28cc3e82",
   "metadata": {},
   "source": [
    "The analysis highlights that the highest chlorophyll concentrations occur during the warmer seasons in the studied area of Chile, with the absolute peak typically observed in January. During this month, values can reach the 99th percentile, represented by the magenta color in the visualization. Given that chlorophyll levels act as a proxy for phytoplankton abundance, these findings strongly suggest increased phytoplankton activity during Chile's warmer periods.\n",
    "\n",
    "The data generally confirms this seasonal pattern for the Chilean location: significant chlorophyll concentrations are typically observed between early spring (September) and late autumn (May). Additionally, there is an observable upward trend in maximum chlorophyll concentrations over the years."
   ]
  },
  {
   "cell_type": "markdown",
   "id": "5a12a275",
   "metadata": {},
   "source": [
    "# Time Series Analysis"
   ]
  },
  {
   "cell_type": "markdown",
   "id": "f98d6cd3",
   "metadata": {},
   "source": [
    "Primero, buscaremos extraer la serie temporal de la región de interés. En esta serie temporal se construirá a partir de la media, y se realizará para la evolución diaria, mensual y anual, promediando los valores de cada mes y año. Además, se seleccionará una región de interés en torno al punto de interés."
   ]
  },
  {
   "cell_type": "code",
   "execution_count": null,
   "id": "4018ab42",
   "metadata": {},
   "outputs": [],
   "source": [
    "delta = 2\n",
    "lon_min_sel, lon_max_sel = LON_POI - delta, LON_POI + delta\n",
    "lat_min_sel, lat_max_sel = LAT_POI - delta, LAT_POI + delta\n",
    "lon_min_sel = -71.5\n",
    "ds = ds.sel(lon=slice(lon_min_sel, lon_max_sel), lat=slice(lat_min_sel, lat_max_sel))"
   ]
  },
  {
   "cell_type": "code",
   "execution_count": null,
   "id": "075ec6a5",
   "metadata": {},
   "outputs": [],
   "source": [
    "lon_max = ds.lon.where(~np.isnan(ds.CHL[0, :, :])).max()\n",
    "\n",
    "ds = ds.sel(lat=slice(lat_min, lat_max), lon=slice(lon_min, lon_max))\n",
    "\n",
    "plot_chlorophyll(ds, 0)\n",
    "plt.show()"
   ]
  },
  {
   "cell_type": "code",
   "execution_count": null,
   "id": "c8dbad13",
   "metadata": {},
   "outputs": [],
   "source": [
    "# Daily mean chlorophyll-a concentration\n",
    "mean_chl_daily = ds.CHL.mean(dim=(\"lat\", \"lon\"))\n",
    "\n",
    "# Monthly mean chlorophyll-a concentration\n",
    "mean_chl_monthly = ds.CHL.resample(time=\"1ME\").mean().mean(dim=(\"lat\", \"lon\"))\n",
    "\n",
    "# Yearly mean chlorophyll-a concentration\n",
    "mean_chl_yearly = ds.CHL.resample(time=\"1YE\").mean().mean(dim=(\"lat\", \"lon\"))"
   ]
  },
  {
   "cell_type": "code",
   "execution_count": null,
   "id": "524fd4db",
   "metadata": {},
   "outputs": [],
   "source": [
    "def ds_to_df(ds: xr.Dataset, name: str, freq: str) -> pd.DataFrame:\n",
    "    \"\"\"\n",
    "    Convert an xarray dataset to a pandas DataFrame.\n",
    "\n",
    "    :param ds: xarray dataset to convert.\n",
    "    :param name: Name of the DataFrame's column.\n",
    "    :param freq: Frequency to resample the data. Must be a valid pandas frequency string.\n",
    "    :return: Pandas DataFrame with the data from the xarray dataset.\n",
    "    \"\"\"\n",
    "    df: pd.DataFrame = ds.to_dataframe(name=name)\n",
    "\n",
    "    df.reset_index(inplace=True)\n",
    "    df.set_index(\"time\", inplace=True)\n",
    "    # df = df.asfreq(freq)\n",
    "\n",
    "    return df"
   ]
  },
  {
   "cell_type": "code",
   "execution_count": null,
   "id": "7eb1d7cb",
   "metadata": {},
   "outputs": [],
   "source": [
    "mean_df_daily = ds_to_df(mean_chl_daily, \"mean_chl_daily\", \"D\")\n",
    "mean_df_monthly = ds_to_df(mean_chl_monthly, \"mean_chl_monthly\", \"ME\")\n",
    "mean_df_yearly = ds_to_df(mean_chl_yearly, \"mean_chl_yearly\", \"YE\")"
   ]
  },
  {
   "cell_type": "code",
   "execution_count": null,
   "id": "c564da00",
   "metadata": {},
   "outputs": [],
   "source": [
    "import statsmodels.tsa.seasonal as sm_seasonal\n",
    "\n",
    "\n",
    "def plot_seasonal_decompose(\n",
    "    ts: pd.Series,\n",
    "    period: int,\n",
    "    model: str = \"additive\",\n",
    "    range_: tuple[int, int] | None = None,\n",
    "    title: str | None = None,\n",
    ") -> tuple[sm_seasonal.DecomposeResult, Figure]:\n",
    "    \"\"\"\n",
    "    Decompose a time series into trend, seasonal, and residual components.\n",
    "\n",
    "    :param ts: Time series to decompose.\n",
    "    :param period: Period of the seasonal component. Default is 12 for monthly data.\n",
    "    :param model: Type of decomposition model. Can be 'additive' or 'multiplicative'.\n",
    "    :param range_: Range of the time series to plot. Default is None (full range).\n",
    "    :return: Tuple of the decomposition result and the figure object.\n",
    "    \"\"\"\n",
    "    if range_ is not None:\n",
    "        ts = ts[range_[0] : range_[1]]\n",
    "\n",
    "    result = sm_seasonal.seasonal_decompose(ts, model=model, period=period)\n",
    "\n",
    "    fig = result.plot()\n",
    "\n",
    "    if title is not None:\n",
    "        # Remove the title from the first axes\n",
    "        axes = fig.get_axes()\n",
    "        axes[0].set_title(\"\")\n",
    "\n",
    "        # Set the title for the entire figure\n",
    "        fig.suptitle(title, fontsize=12)\n",
    "\n",
    "    return result, fig"
   ]
  },
  {
   "cell_type": "code",
   "execution_count": null,
   "id": "5a1c26c5",
   "metadata": {},
   "outputs": [],
   "source": [
    "SAVE_PLOTS = True\n",
    "SHOW_PLOTS = True"
   ]
  },
  {
   "cell_type": "code",
   "execution_count": null,
   "id": "f5d82940",
   "metadata": {},
   "outputs": [],
   "source": [
    "mean_df_daily[\"mean_chl_daily\"].values"
   ]
  },
  {
   "cell_type": "code",
   "execution_count": null,
   "id": "bd0441f2",
   "metadata": {},
   "outputs": [],
   "source": [
    "SEASONAL_DECOMPOSE_PATH = IMG_PATH / \"seasonal_decompose\"\n",
    "SEASONAL_DECOMPOSE_PATH.mkdir(parents=True, exist_ok=True)\n",
    "\n",
    "\n",
    "# (title name, name, time series, period)\n",
    "time_series_list = [\n",
    "    (\n",
    "        \"Daily mean chlorophyll-a concentration\",\n",
    "        \"mean_daily\",\n",
    "        mean_df_daily[\"mean_chl_daily\"],\n",
    "        365,\n",
    "    ),\n",
    "    (\n",
    "        \"Monthly mean chlorophyll-a concentration\",\n",
    "        \"mean_monthly\",\n",
    "        mean_df_monthly[\"mean_chl_monthly\"],\n",
    "        12,\n",
    "    ),\n",
    "    (\n",
    "        \"Yearly mean chlorophyll-a concentration\",\n",
    "        \"mean_yearly\",\n",
    "        mean_df_yearly[\"mean_chl_yearly\"],\n",
    "        None,\n",
    "    ),\n",
    "]\n",
    "\n",
    "\n",
    "if SAVE_PLOTS or SHOW_PLOTS:\n",
    "    for title, name, ts, period in time_series_list:\n",
    "        result, fig = plot_seasonal_decompose(\n",
    "            ts, period=period, model=\"additive\", title=title\n",
    "        )\n",
    "\n",
    "        if SAVE_PLOTS:\n",
    "            fig.savefig(\n",
    "                SEASONAL_DECOMPOSE_PATH / f\"seasonal_decompose_{name}.png\",\n",
    "                bbox_inches=\"tight\",\n",
    "            )\n",
    "\n",
    "        if SHOW_PLOTS:\n",
    "            plt.show()\n",
    "        else:\n",
    "            plt.close(fig)"
   ]
  },
  {
   "cell_type": "markdown",
   "id": "38cd250f",
   "metadata": {},
   "source": [
    "A partir de los gráficos generados se puede observar que la tendencia fue en aumento desde el año 1998 hasta el año 2003. Esta tendencia se mantuvo relativamente estable hasta el año 2022, donde presenta una disminución abrupta.\n",
    "\n",
    "La estacionalidad se ha mantenido en el tiempo, donde oscila entre los valores de 0.3 y -0.25, aunque esto se pueda deber a la ventana de tiempo que se ha utilizado para realizar el análisis. Para comprobarlo, se realizará una descomposición de la serie temporal con diferentes ventanas de tiempo.\n",
    "\n",
    "Por último, se observa que el residuo de la serie temporal presenta una alta variabilidad, superando con creces los valores de la tendencia y de la estacionalidad. Esto puede indicar que existe una alta variabilidad en la serie temporal, lo que puede dificultar la identificación de patrones y tendencias a largo plazo. Sin embargo, es importante tener en cuenta que esta variabilidad también puede ser el resultado de factores externos, como cambios climáticos o eventos naturales, que pueden afectar la concentración de clorofila en el océano."
   ]
  },
  {
   "cell_type": "code",
   "execution_count": null,
   "id": "a5cad74a",
   "metadata": {},
   "outputs": [],
   "source": [
    "def plot_seasonal_decompose_range(\n",
    "    ts_daily: pd.Series,\n",
    "    ts_monthly: pd.Series,\n",
    "    year_range: tuple[int, int],\n",
    ") -> None:\n",
    "    \"\"\"\n",
    "    Plot the seasonal decomposition for daily and monthly time series.\n",
    "\n",
    "    :param ts_daily: Daily time series to decompose.\n",
    "    :param ts_monthly: Monthly time series to decompose.\n",
    "    :param year_range: Range of years to plot. Must be a tuple of two integers.\n",
    "    :return: None\n",
    "    \"\"\"\n",
    "\n",
    "    year_init, year_end = year_range\n",
    "\n",
    "    range_daily = ((year_init - 1998) * 365, (year_end - 1998 + 1) * 365)\n",
    "    range_monthly = ((year_init - 1998) * 12, (year_end - 1998 + 1) * 12)\n",
    "\n",
    "    title = f\"Daily mean chlorophyll-a concentration, period range: {year_init} - {year_end}\"\n",
    "    plot_seasonal_decompose(\n",
    "        ts_daily, period=365, model=\"additive\", range_=range_daily, title=title\n",
    "    )\n",
    "    plt.show()\n",
    "\n",
    "    title = f\"Monthly mean chlorophyll-a concentration, period range: {year_init} - {year_end}\"\n",
    "    plot_seasonal_decompose(\n",
    "        ts_monthly, period=12, model=\"additive\", range_=range_monthly, title=title\n",
    "    )\n",
    "    plt.show()"
   ]
  },
  {
   "cell_type": "code",
   "execution_count": null,
   "id": "7d4e67d9",
   "metadata": {},
   "outputs": [],
   "source": [
    "plot_seasonal_decompose_range(\n",
    "    mean_df_daily[\"mean_chl_daily\"], mean_df_monthly[\"mean_chl_monthly\"], (1998, 2012)\n",
    ")"
   ]
  },
  {
   "cell_type": "code",
   "execution_count": null,
   "id": "9051ed1d",
   "metadata": {},
   "outputs": [],
   "source": [
    "plot_seasonal_decompose_range(\n",
    "    mean_df_daily[\"mean_chl_daily\"], mean_df_monthly[\"mean_chl_monthly\"], (2012, 2020)\n",
    ")"
   ]
  },
  {
   "cell_type": "code",
   "execution_count": null,
   "id": "ff51fa1c",
   "metadata": {},
   "outputs": [],
   "source": [
    "plot_seasonal_decompose_range(\n",
    "    mean_df_daily[\"mean_chl_daily\"], mean_df_monthly[\"mean_chl_monthly\"], (2016, 2024)\n",
    ")"
   ]
  },
  {
   "cell_type": "markdown",
   "id": "ee57ffc6",
   "metadata": {},
   "source": [
    "Se graficaron las series temporales en los rangos del 2004-2012, 2012-2020 y 2016-2024.\n",
    "\n",
    "Una diferencia importante es el rango de valores que se mueve la componente estacional, donde se observa que en todos los rangos la estacionalidad se mantiene en el rango de 0.5 a -0.5. Sin embargo, los residuos siguen teniendo valores considerablemente altos, al menos, con respecto a la tendencia y la estacionalidad. \n",
    "\n",
    "Se observa que la tendencia tiene valores similares a la descomposición de rango completo."
   ]
  },
  {
   "cell_type": "markdown",
   "id": "ce84f7d6",
   "metadata": {},
   "source": [
    "# Spatial Analysis"
   ]
  },
  {
   "cell_type": "markdown",
   "id": "c31c0064",
   "metadata": {},
   "source": [
    "En esta sección se analizará la distribución espacial de la clorofila a lo largo del tiempo. Para ello, calcularán las métricas expuestas en el paper de Ferreira et al. (2021) y se graficarán los resultados. Las métricas a calcular son las siguientes:\n",
    "\n",
    "| **Metric** | **Full Name**        | **Unit**         | **Description**                                                  |\n",
    "|------------|----------------------|------------------|------------------------------------------------------------------|\n",
    "| Mean       | Chl *a* mean         | mg m⁻³           | Mean Chl *a* concentration of the seasonal cycle                |\n",
    "| Max        | Chl *a* maximum      | mg m⁻³           | Maximum Chl *a* concentration of the seasonal cycle             |\n",
    "| BAmp       | Bloom amplitude      | mg m⁻³           | Difference between Chl *a* maximum and mean                     |\n",
    "| BPeak      | Bloom peak           | -                | DOY of Chl *a* Maximum                                          |\n",
    "| BInit      | Bloom initiation     | -                | DOY of initiation of the main bloom in the seasonal cycle       |\n",
    "| BTerm      | Bloom termination    | -                | DOY of termination of the main bloom in the seasonal cycle      |\n",
    "| BDur       | Bloom duration       | days             | Duration of the main bloom in the seasonal cycle                |\n",
    "| BArea      | Bloom area           | mg m⁻³           | Biomass of the main bloom in the seasonal cycle                 |\n",
    "| YArea      | Yearly area          | mg m⁻³           | Total biomass accumulated during the seasonal cycle             |\n",
    "| BFreq      | Bloom Frequency      | blooms year⁻¹    | Number of blooms in the seasonal cycle                          |\n"
   ]
  },
  {
   "cell_type": "code",
   "execution_count": null,
   "id": "bc41b725",
   "metadata": {},
   "outputs": [],
   "source": [
    "# def mean_metric(ds: xr.Dataset):\n",
    "ds = ds.sel(time=slice(\"1998-01-01\", None))"
   ]
  },
  {
   "cell_type": "code",
   "execution_count": null,
   "id": "aeebf5b1",
   "metadata": {},
   "outputs": [],
   "source": [
    "chl_mean = ds.resample(time=\"1YE\").mean()\n",
    "chl_mean[\"CHL\"][0].plot()\n",
    "plt.gca().set_aspect(\"equal\")"
   ]
  },
  {
   "cell_type": "code",
   "execution_count": null,
   "id": "f6b3385f",
   "metadata": {},
   "outputs": [],
   "source": [
    "chl_max = ds.resample(time=\"1YE\").max()\n",
    "chl_max[\"CHL\"][0].plot()\n",
    "plt.gca().set_aspect(\"equal\")"
   ]
  },
  {
   "cell_type": "code",
   "execution_count": null,
   "id": "d42f79cc",
   "metadata": {},
   "outputs": [],
   "source": [
    "b_amp = chl_max - chl_mean\n",
    "b_amp[\"CHL\"][0].plot()\n",
    "plt.gca().set_aspect(\"equal\")"
   ]
  },
  {
   "cell_type": "code",
   "execution_count": null,
   "id": "0b4c80bf",
   "metadata": {},
   "outputs": [],
   "source": [
    "def compute_bloom_initiation(ds: xr.Dataset, year: int) -> xr.Dataset:\n",
    "    \"\"\"\n",
    "    Compute the bloom inition day of year for a year.\n",
    "\n",
    "    Specifically, the first day when Chl-a rises above a threshold (5% above annual median) and stays there for at least 15 days.\n",
    "\n",
    "    :param ds: xarray dataset containing chlorophyll-a data.\n",
    "    :param year: Year to compute the bloom initiation for. Must be an integer.\n",
    "    :return: xarray dataset with the bloom initiation day of year.\n",
    "    \"\"\"\n",
    "\n",
    "    chl = ds.CHL.sel(time=slice(f\"{year}-01-01\", f\"{year}-12-31\"))\n",
    "\n",
    "    # Chl-a median.\n",
    "    chl_median = chl.resample(time=\"1YE\").median()  # Dimensions (time=1, lat, lon)\n",
    "    threshold = chl_median * 1.05\n",
    "    threshold = threshold[0]  # Dimensions (lat, lon)\n",
    "\n",
    "    # Threshold mask. Dimensions (time, lat, lon)\n",
    "    threshold_expanded = threshold.broadcast_like(chl)\n",
    "\n",
    "    # Values above threshold. Dimensions (time, lat, lon)\n",
    "    above_threshold = chl > threshold_expanded\n",
    "\n",
    "    # Number of days above threshold. Dimensions (time, lat, lon)\n",
    "    rolling_sum = above_threshold.rolling(time=15, center=False).sum()\n",
    "\n",
    "    # Bloom mask. Dimensions (time, lat, lon)\n",
    "    bloom_mask = rolling_sum >= 15\n",
    "\n",
    "    b_init = bloom_mask.argmax(dim=\"time\")\n",
    "\n",
    "    return b_init\n",
    "\n",
    "\n",
    "compute_bloom_initiation(ds, 1998).plot()\n",
    "plt.gca().set_aspect(\"equal\")"
   ]
  },
  {
   "cell_type": "code",
   "execution_count": null,
   "id": "7af55a5c",
   "metadata": {},
   "outputs": [],
   "source": [
    "# Bloom threshold\n",
    "\n",
    "chl_median = ds.resample(time=\"1YE\").median()\n",
    "threshold = chl_median * 1.05"
   ]
  },
  {
   "cell_type": "code",
   "execution_count": null,
   "id": "939c4a99",
   "metadata": {},
   "outputs": [],
   "source": [
    "ds[\"CHL\"]"
   ]
  },
  {
   "cell_type": "code",
   "execution_count": null,
   "id": "f04e26fb",
   "metadata": {},
   "outputs": [],
   "source": [
    "threshold"
   ]
  },
  {
   "cell_type": "code",
   "execution_count": null,
   "id": "b3c5ac4d",
   "metadata": {},
   "outputs": [],
   "source": [
    "threshold.broadcast_like(ds)"
   ]
  },
  {
   "cell_type": "code",
   "execution_count": null,
   "id": "a73245ea",
   "metadata": {},
   "outputs": [],
   "source": [
    "# Bloom initiation\n",
    "# The day when the bloom starts. Specifically, the first day when Chl-a rises above a threshold (5% above annual median) and stays there for at least 15 days.\n",
    "\n",
    "# Ensure the dimensions align for broadcasting\n",
    "threshold_expanded = threshold.broadcast_like(ds)\n",
    "\n",
    "# Compute a boolean array where values in ds are above the threshold\n",
    "above_threshold = ds[\"CHL\"] > threshold_expanded\n",
    "\n",
    "\n",
    "# rolling_sum = above_threshold.rolling(time=15, center=False).sum()\n",
    "\n",
    "\n",
    "# # bloom_start = above_threshold.rolling(time=15).sum().where(above_threshold).dropna(dim=\"time\", how=\"all\")\n",
    "# # bloom_start\n",
    "above_threshold"
   ]
  },
  {
   "cell_type": "code",
   "execution_count": null,
   "id": "57aea136",
   "metadata": {},
   "outputs": [],
   "source": [
    "chl_mean"
   ]
  },
  {
   "cell_type": "code",
   "execution_count": null,
   "id": "feb45d9a",
   "metadata": {},
   "outputs": [],
   "source": [
    "ds.CHL.mean(dim=(\"time\"))"
   ]
  },
  {
   "cell_type": "code",
   "execution_count": null,
   "id": "34a42584",
   "metadata": {},
   "outputs": [],
   "source": []
  }
 ],
 "metadata": {
  "kernelspec": {
   "display_name": ".venv",
   "language": "python",
   "name": "python3"
  },
  "language_info": {
   "codemirror_mode": {
    "name": "ipython",
    "version": 3
   },
   "file_extension": ".py",
   "mimetype": "text/x-python",
   "name": "python",
   "nbconvert_exporter": "python",
   "pygments_lexer": "ipython3",
   "version": "3.12.3"
  }
 },
 "nbformat": 4,
 "nbformat_minor": 5
}
