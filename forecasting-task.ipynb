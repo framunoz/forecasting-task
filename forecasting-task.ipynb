{
 "cells": [
  {
   "cell_type": "code",
   "execution_count": null,
   "id": "24e08bdb-601b-43c5-9bf4-fc369dedce6e",
   "metadata": {},
   "outputs": [],
   "source": [
    "from itertools import product\n",
    "from pathlib import Path\n",
    "\n",
    "import matplotlib as mpl\n",
    "import matplotlib.pyplot as plt\n",
    "import missingno as msno\n",
    "import numpy as np\n",
    "import pandas as pd\n",
    "import xarray as xr\n",
    "import seaborn as sns"
   ]
  },
  {
   "cell_type": "code",
   "execution_count": null,
   "id": "5f70181c",
   "metadata": {},
   "outputs": [],
   "source": [
    "SHOW_PLOTS = False  # Boolean to show annoying plots\n",
    "SAVE_PLOTS = False  # Boolean to save plots"
   ]
  },
  {
   "cell_type": "code",
   "execution_count": null,
   "id": "912b6581-6aaf-4075-bf79-988291568da7",
   "metadata": {},
   "outputs": [],
   "source": [
    "PROJECT_PATH = Path(\".\")\n",
    "\n",
    "DATA_PATH = PROJECT_PATH / \"data\"\n",
    "DATA_RAW_PATH = DATA_PATH / \"01_raw\"\n",
    "\n",
    "IMG_PATH = PROJECT_PATH / \"imgs\"\n",
    "\n",
    "CHLOROPHYLL_DATA_PATH = (\n",
    "    DATA_RAW_PATH / \"chl_cmems_obs-oc_glo_bgc-plankton_my_l4-gapfree-multi-4km_P1D.nc\"\n",
    ")\n",
    "\n",
    "CHLOROPHYLL_DATA_PATH"
   ]
  },
  {
   "cell_type": "markdown",
   "id": "b76bf656",
   "metadata": {},
   "source": [
    "# Data Loading and Preprocessing"
   ]
  },
  {
   "cell_type": "markdown",
   "id": "ae9edd95",
   "metadata": {},
   "source": [
    "We open the dataset. For convenience, we will change the names of the \"longitude\" and \"latitude\" columns to \"lon\" and \"lat\" respectively."
   ]
  },
  {
   "cell_type": "code",
   "execution_count": null,
   "id": "73e26af2",
   "metadata": {},
   "outputs": [],
   "source": [
    "ds = xr.open_dataset(CHLOROPHYLL_DATA_PATH, engine=\"netcdf4\")\n",
    "ds = ds.rename({\"longitude\": \"lon\", \"latitude\": \"lat\"})\n",
    "\n",
    "lat_min, lat_max = float(ds.lat.min()), float(ds.lat.max())\n",
    "lon_min, lon_max = float(ds.lon.min()), float(ds.lon.max())\n",
    "boundaries = (lon_min, lat_min, lon_max, lat_max)\n",
    "centroid = ((lat_min + lat_max) / 2, (lon_min + lon_max) / 2)\n",
    "\n",
    "print(ds)"
   ]
  },
  {
   "cell_type": "markdown",
   "id": "006ad442",
   "metadata": {},
   "source": [
    "We start with a preliminary visualization of the data in your region."
   ]
  },
  {
   "cell_type": "code",
   "execution_count": null,
   "id": "1e0e9005",
   "metadata": {},
   "outputs": [],
   "source": [
    "# Get the quantiles of chlorophyll-a concentration\n",
    "q_01, q_99 = ds[\"CHL\"].quantile([0.01, 0.99], method=\"closest_observation\").values\n",
    "print(f\"Quantiles: {q_01 = :.2f}, {q_99 = :.2f}\")"
   ]
  },
  {
   "cell_type": "code",
   "execution_count": null,
   "id": "774f90f3",
   "metadata": {},
   "outputs": [],
   "source": [
    "from matplotlib.figure import Figure\n",
    "from matplotlib.axes import Axes\n",
    "from matplotlib.colors import Colormap\n",
    "\n",
    "\n",
    "point_of_interest = lat_poi, lon_poi = -23.627534, -70.396026\n",
    "\n",
    "\n",
    "def plot_chlorophyll(\n",
    "    ds: xr.Dataset,\n",
    "    time_index: int,\n",
    "    fig: Figure = None,\n",
    "    ax: Axes = None,\n",
    "    title: str | None = None,\n",
    "    colorbar: bool = True,\n",
    "    vmin: float = q_01,\n",
    "    vmax: float = q_99,\n",
    "    cmap: str | Colormap | None = None,\n",
    ") -> tuple[Figure, Axes]:\n",
    "    \"\"\"\n",
    "    Plot chlorophyll-a concentration from a dataset.\n",
    "\n",
    "    :param ds: xarray dataset containing chlorophyll-a data.\n",
    "    :param time_index: Index of the time dimension to plot. Must be an integer.\n",
    "    :param fig: Matplotlib figure object. If None, a new figure is created.\n",
    "    :param ax: Matplotlib axes object. If None, a new axes is created.\n",
    "    :param title: Title of the plot. If None, a default title is generated.\n",
    "    :param colorbar: Whether to display a colorbar. Default is True.\n",
    "    :param vmin: Minimum value for color mapping. Default is the 1st percentile of chlorophyll-a data.\n",
    "    :param vmax: Maximum value for color mapping. Default is the 99th percentile of chlorophyll-a data.\n",
    "    :param cmap: Colormap to use for the plot. Default is \"jet\".\n",
    "    :return: Tuple of the figure and axes objects.\n",
    "    \"\"\"\n",
    "\n",
    "    if fig is None or ax is None:\n",
    "        fig, ax = plt.subplots(figsize=(10, 6))\n",
    "\n",
    "    lat = ds.lat.data\n",
    "    lon = ds.lon.data\n",
    "    chl = ds.CHL.data\n",
    "\n",
    "    pcolormesh_kwargs = dict(\n",
    "        shading=\"auto\", cmap=cmap or sns.color_palette(\"viridis\", as_cmap=True)\n",
    "    )\n",
    "\n",
    "    pcolormesh_kwargs[\"vmin\"] = vmin\n",
    "    pcolormesh_kwargs[\"vmax\"] = vmax\n",
    "\n",
    "    mesh = ax.pcolormesh(lon, lat, chl[time_index, :, :], **pcolormesh_kwargs)\n",
    "\n",
    "    # Plot the point of interest\n",
    "    ax.plot(\n",
    "        lon_poi,\n",
    "        lat_poi,\n",
    "        marker=\"o\",\n",
    "        color=\"red\",\n",
    "        markersize=8,\n",
    "        label=\"Point of Interest\",\n",
    "    )\n",
    "\n",
    "    if colorbar:\n",
    "        colorbar_kwargs = dict(ax=ax, label=\"Chlorophyll-a concentration (mg/m³)\")\n",
    "\n",
    "        colorbar_kwargs[\"extend\"] = \"both\"\n",
    "        cbar = fig.colorbar(mesh, **colorbar_kwargs)\n",
    "        cbar.cmap.set_under(\"gray\")\n",
    "        cbar.cmap.set_over(\"magenta\")\n",
    "\n",
    "    title = (\n",
    "        title\n",
    "        or f\"Chlorophyll-a concentration on {str(ds.time[time_index].values)[:10]}\"\n",
    "    )\n",
    "\n",
    "    ax.set_title(title)\n",
    "    ax.set_xlabel(\"Longitude\")\n",
    "    ax.set_ylabel(\"Latitude\")\n",
    "\n",
    "    ax.set_aspect(\"equal\", adjustable=\"box\")\n",
    "\n",
    "    return fig, ax\n",
    "\n",
    "\n",
    "plot_chlorophyll(ds, 0)\n",
    "plt.show()"
   ]
  },
  {
   "cell_type": "markdown",
   "id": "5b54247c",
   "metadata": {},
   "source": [
    "We can observe that at first, there is a large amount of missing data in a certain region. Let's check with Google Earth Engine how that region looks like.\n"
   ]
  },
  {
   "cell_type": "code",
   "execution_count": null,
   "id": "e99374a2",
   "metadata": {},
   "outputs": [],
   "source": [
    "%%script false --no-raise-error\n",
    "import ee\n",
    "import geemap\n",
    "\n",
    "\n",
    "ee.Authenticate()\n",
    "ee.Initialize()\n",
    "\n",
    "region = ee.Geometry.Rectangle(boundaries)\n",
    "\n",
    "\n",
    "def mask_clouds(image):\n",
    "    # Select the QA60 band and create a cloud mask\n",
    "    qa = image.select(\"QA60\")\n",
    "    cloudBitMask = 1 << 10\n",
    "    cirrusBitMask = 1 << 11\n",
    "    mask = qa.bitwiseAnd(cloudBitMask).eq(0).And(qa.bitwiseAnd(cirrusBitMask).eq(0))\n",
    "    # Apply the cloud mask to the image\n",
    "    return image.updateMask(mask).divide(10000)\n",
    "\n",
    "\n",
    "# Select the Sentinel-2 image collection\n",
    "collection = (\n",
    "    ee.ImageCollection(\"COPERNICUS/S2_SR_HARMONIZED\")\n",
    "    .filterBounds(region)\n",
    "    .filterDate(\"2021-01-01\", \"2021-12-31\")\n",
    "    .map(mask_clouds)\n",
    ")\n",
    "\n",
    "vis_params = dict(bands=[\"B4\", \"B3\", \"B2\"], min=0, max=0.3)\n",
    "\n",
    "Map = geemap.Map(center=centroid, zoom=6)\n",
    "\n",
    "Map.addLayer(collection.mosaic().clip(region), vis_params, \"Sentinel-2 Copernicus\")\n",
    "Map.addLayer(region, {}, \"Region of Interest\")\n",
    "Map.addLayerControl()\n",
    "\n",
    "Map"
   ]
  },
  {
   "cell_type": "markdown",
   "id": "291184f1",
   "metadata": {},
   "source": [
    "We can see that indeed the region that has missing values in the time series is the one that corresponds to the coast, at least the region that is systematically missing. Now let's review some images over the days to see if there is any missing data in between."
   ]
  },
  {
   "cell_type": "code",
   "execution_count": null,
   "id": "f787b3d8",
   "metadata": {},
   "outputs": [],
   "source": [
    "def plot_chlorophyll_grid(\n",
    "    ds: xr.Dataset,\n",
    "    n_row: int = 8,\n",
    "    n_col: int = 6,\n",
    "    titles: list[str] | None = None,\n",
    "    figsize: tuple[int, int] = (15, 20),\n",
    ") -> tuple[Figure, Axes]:\n",
    "    \"\"\"\n",
    "    Plot a grid of the first n_row * n_col chlorophyll-a concentration images\n",
    "    from a dataset.\n",
    "\n",
    "    :param ds: xarray dataset containing chlorophyll-a data.\n",
    "    :param n_row: Number of rows in the grid. Default is 8.\n",
    "    :param n_col: Number of columns in the grid. Default is 6.\n",
    "    :return: Tuple of the figure and axes objects.\n",
    "    \"\"\"\n",
    "\n",
    "    if titles is not None:\n",
    "        assert len(titles) == n_row * n_col, \"Number of titles must match grid size.\"\n",
    "\n",
    "    fig, axs = plt.subplots(n_row, n_col, figsize=figsize)\n",
    "\n",
    "    ds = ds.sel(time=ds.time[: n_row * n_col])\n",
    "    q_01, q_99 = ds[\"CHL\"].quantile([0.01, 0.99], method=\"closest_observation\").values\n",
    "\n",
    "    for i, j in product(range(n_row), range(n_col)):\n",
    "        time_index = i * n_col + j\n",
    "\n",
    "        title = (\n",
    "            titles[time_index] if titles else f\"{str(ds.time[time_index].values)[:10]}\"\n",
    "        )\n",
    "\n",
    "        plot_chlorophyll(\n",
    "            ds,\n",
    "            time_index,\n",
    "            fig,\n",
    "            axs[i, j],\n",
    "            colorbar=False,\n",
    "            title=title,\n",
    "            vmin=q_01,\n",
    "            vmax=q_99,\n",
    "        )\n",
    "\n",
    "        if j != 0:\n",
    "            axs[i, j].set_ylabel(\"\")\n",
    "            axs[i, j].set_yticklabels([])\n",
    "\n",
    "        if i != n_row - 1:\n",
    "            axs[i, j].set_xlabel(\"\")\n",
    "            axs[i, j].set_xticklabels([])\n",
    "\n",
    "    cbar = fig.colorbar(\n",
    "        axs[0, 0].collections[0],\n",
    "        ax=axs[:, :],\n",
    "        label=\"Chlorophyll-a concentration (mg/m³)\",\n",
    "        location=\"right\",\n",
    "        shrink=0.8,\n",
    "    )\n",
    "    cbar.cmap.set_under(\"gray\")\n",
    "    cbar.cmap.set_over(\"magenta\")\n",
    "\n",
    "    return fig, axs\n",
    "\n",
    "\n",
    "plot_chlorophyll_grid(ds, n_row=8, n_col=6)\n",
    "plt.show()"
   ]
  },
  {
   "cell_type": "markdown",
   "id": "fe7999f6",
   "metadata": {},
   "source": [
    "Indeed, there are times when there is no data. Let's choose some coordinate inside and check how the missing data is distributed over time."
   ]
  },
  {
   "cell_type": "code",
   "execution_count": null,
   "id": "171fffb3",
   "metadata": {},
   "outputs": [],
   "source": [
    "chl_da = ds[\"CHL\"].sel(lat=-24, lon=-72, method=\"nearest\")\n",
    "chl_np = chl_da.values"
   ]
  },
  {
   "cell_type": "code",
   "execution_count": null,
   "id": "a003439b",
   "metadata": {},
   "outputs": [],
   "source": [
    "# Let's check the number of NaN values in the array\n",
    "print(\n",
    "    f\"Number of NaN values: {int(np.isnan(chl_np).sum())} / {chl_np.size} \"\n",
    "    f\"({float(np.isnan(chl_np).sum() / chl_np.size * 100):.2f}%)\"\n",
    ")"
   ]
  },
  {
   "cell_type": "code",
   "execution_count": null,
   "id": "2bc8a172",
   "metadata": {},
   "outputs": [],
   "source": [
    "df = pd.DataFrame({\"CHL\": chl_np})\n",
    "\n",
    "msno.matrix(df)\n",
    "plt.show()"
   ]
  },
  {
   "cell_type": "markdown",
   "id": "c2148e29",
   "metadata": {},
   "source": [
    "We note that the missing data are mainly at the beginning. Let's zoom in."
   ]
  },
  {
   "cell_type": "code",
   "execution_count": null,
   "id": "4f2b6125",
   "metadata": {},
   "outputs": [],
   "source": [
    "msno.matrix(df[:2000])\n",
    "plt.show()"
   ]
  },
  {
   "cell_type": "markdown",
   "id": "210574c0",
   "metadata": {},
   "source": [
    "It can be seen that over the time series there are 24 occasions where there is no data. This may be due to the presence of clouds at the time of image acquisition.\n",
    "\n",
    "In this case, since there are so few missing values, the values can be interpolated. For the sake of speed and simplicity, linear interpolation will be used. If this is found to affect the result, one can switch to a more robust interpolation, such as spline or linear RBF, albeit sacrificing more computational time for such a small amount of data.\n",
    "\n",
    "Furthermore, one could use the methods mentioned in the paper [Ferreira, 2021](https://doi.org/10.3390/rs13040675), which mention the 3-step gap-filling algorithm [Sasaoka, 2011](https://doi.org/10.1016/j.rse.2014.05.016), and the 3-week centred moving mean algorithm [Ferreira, 2014](https://doi.org/10.1002/2014JC010323). These methods could be implemented in the future to improve the analysis."
   ]
  },
  {
   "cell_type": "code",
   "execution_count": null,
   "id": "f82c8907",
   "metadata": {},
   "outputs": [],
   "source": [
    "# interpolate nan\n",
    "ds = ds.interpolate_na(dim=\"time\", method=\"linear\")\n",
    "\n",
    "plot_chlorophyll_grid(ds, n_row=8, n_col=6)\n",
    "plt.show()"
   ]
  },
  {
   "cell_type": "markdown",
   "id": "6179a82e",
   "metadata": {},
   "source": [
    "Following the instructions, a region around the point $(-24.63, -70.40)$ will be selected. This change will improve processing speed in the future."
   ]
  },
  {
   "cell_type": "code",
   "execution_count": null,
   "id": "9b560de7",
   "metadata": {},
   "outputs": [],
   "source": [
    "# Select a region around the coordinates (-23.627534, -70.396026)\n",
    "# delta = 2\n",
    "# lat_poi, lon_poi = point_of_interest\n",
    "# lon_min_sel, lon_max_sel = lon_poi - delta, lon_poi + delta\n",
    "# lat_min_sel, lat_max_sel = lat_poi - delta, lat_poi + delta\n",
    "# lon_min_sel = -71.5\n",
    "# ds = ds.sel(\n",
    "#     lon=slice(lon_min_sel, lon_max_sel),\n",
    "#     lat=slice(lat_min_sel, lat_max_sel)\n",
    "# )"
   ]
  },
  {
   "cell_type": "markdown",
   "id": "0e3e44b1",
   "metadata": {},
   "source": [
    "The coastal region will also be eliminated as it does not provide relevant information for the analysis."
   ]
  },
  {
   "cell_type": "code",
   "execution_count": null,
   "id": "77d65c07",
   "metadata": {},
   "outputs": [],
   "source": [
    "lon_max = ds.lon.where(~np.isnan(ds.CHL[0, :, :])).max()\n",
    "\n",
    "ds = ds.sel(lat=slice(lat_min, lat_max), lon=slice(lon_min, lon_max))\n",
    "\n",
    "plot_chlorophyll(ds, -5000)\n",
    "plt.show()"
   ]
  },
  {
   "cell_type": "code",
   "execution_count": null,
   "id": "2173fb3b",
   "metadata": {},
   "outputs": [],
   "source": [
    "plot_chlorophyll_grid(ds, n_row=8, n_col=6)\n",
    "plt.show()"
   ]
  },
  {
   "cell_type": "markdown",
   "id": "a956573d",
   "metadata": {},
   "source": [
    "Finally, the remaining null values must be kept as they are. They cannot be interpolated, as these data are from the coast, nor can they be replaced by some other value, as it may lead to erroneous conclusions in the future. It is best to create a mask for these values."
   ]
  },
  {
   "cell_type": "code",
   "execution_count": null,
   "id": "4868f32e",
   "metadata": {},
   "outputs": [],
   "source": [
    "mask = ds.CHL.notnull().all(dim=\"time\")\n",
    "fig, ax = plt.subplots()\n",
    "mask.plot()\n",
    "# equal axis\n",
    "ax.set_aspect(\"equal\", adjustable=\"box\")"
   ]
  },
  {
   "cell_type": "markdown",
   "id": "c2e8dda3",
   "metadata": {},
   "source": [
    "Finally, the time series will be cut to start from 1 January 1998, because the metrics are calculated annually."
   ]
  },
  {
   "cell_type": "code",
   "execution_count": null,
   "id": "61a26bed",
   "metadata": {},
   "outputs": [],
   "source": [
    "# ds = ds.sel(time=slice(\"1998-01-01\", None))\n",
    "ds"
   ]
  },
  {
   "cell_type": "markdown",
   "id": "e8c159d8",
   "metadata": {},
   "source": [
    "# Exploratory Data Analysis"
   ]
  },
  {
   "cell_type": "markdown",
   "id": "3f06eb80",
   "metadata": {},
   "source": [
    "## 1. How is chlorophyll distributed over the course of a year?\n",
    "\n",
    "To answer this question, the average chlorophyll per month will be calculated and the results plotted."
   ]
  },
  {
   "cell_type": "code",
   "execution_count": null,
   "id": "2507394a",
   "metadata": {},
   "outputs": [],
   "source": [
    "def plot_chlorophyll_yearly(\n",
    "    ds: xr.Dataset,\n",
    "    year: str,\n",
    ") -> tuple[Figure, np.ndarray[Axes]]:\n",
    "    \"\"\"\n",
    "    Plot a 12 months average chlorophyll-a concentration from a dataset.\n",
    "\n",
    "    :param ds: xarray dataset containing chlorophyll-a data.\n",
    "    :param year: Year to plot. Must be a string in the format \"YYYY\".\n",
    "    :return: Tuple of the figure and axes objects.\n",
    "    \"\"\"\n",
    "\n",
    "    ds_ = ds.sel(time=slice(f\"{year}-01-01\", f\"{year}-12-31\"))\n",
    "    ds_ = ds_.resample(time=\"ME\").mean()\n",
    "\n",
    "    months_names = [\n",
    "        \"January\",\n",
    "        \"February\",\n",
    "        \"March\",\n",
    "        \"April\",\n",
    "        \"May\",\n",
    "        \"June\",\n",
    "        \"July\",\n",
    "        \"August\",\n",
    "        \"September\",\n",
    "        \"October\",\n",
    "        \"November\",\n",
    "        \"December\",\n",
    "    ]\n",
    "\n",
    "    rearrange = [0, 3, 6, 9, 1, 4, 7, 10, 2, 5, 8, 11]\n",
    "    months_names = [months_names[i] for i in rearrange]\n",
    "    ds_ = ds_.isel(time=rearrange)\n",
    "\n",
    "    fig, axs = plot_chlorophyll_grid(\n",
    "        ds_, n_row=3, n_col=4, titles=months_names, figsize=(10, 10)\n",
    "    )\n",
    "    fig.suptitle(f\"Chlorophyll-a concentration in {year}\", fontsize=16)\n",
    "\n",
    "    return fig, axs\n",
    "\n",
    "\n",
    "plot_chlorophyll_yearly(ds, \"1998\")\n",
    "plt.show()"
   ]
  },
  {
   "cell_type": "code",
   "execution_count": null,
   "id": "4a710776",
   "metadata": {},
   "outputs": [],
   "source": [
    "def plot_chlorophyll_seasonly(\n",
    "    ds: xr.Dataset,\n",
    "    year: str,\n",
    ") -> tuple[Figure, np.ndarray[Axes]]:\n",
    "    \"\"\"\n",
    "    Plot the 4 seasons in a year.\n",
    "\n",
    "    :param ds: xarray dataset containing chlorophyll-a data.\n",
    "    :param year: Year to plot. Must be a string in the format \"YYYY\".\n",
    "    :return: Tuple of the figure and axes objects.\n",
    "    \"\"\"\n",
    "\n",
    "    ds_ = ds.sel(time=slice(f\"{int(year)-1}-12-21\", f\"{year}-12-21\"))\n",
    "    ds_ = ds_.resample(time=\"3MS\").mean()\n",
    "\n",
    "    season_names = [\"Summer\", \"Autumn\", \"Winter\", \"Spring\"]\n",
    "\n",
    "    fig, axs = plot_chlorophyll_grid(\n",
    "        ds_, n_row=2, n_col=2, titles=season_names, figsize=(10, 10)\n",
    "    )\n",
    "    fig.suptitle(f\"Chlorophyll-a concentration in {year}\", fontsize=16)\n",
    "\n",
    "    return fig, axs\n",
    "\n",
    "\n",
    "plot_chlorophyll_seasonly(ds, \"2000\")\n",
    "plt.show()"
   ]
  },
  {
   "cell_type": "markdown",
   "id": "50616f00",
   "metadata": {},
   "source": [
    "Each year will be plotted to observe patterns or anomalies over time."
   ]
  },
  {
   "cell_type": "code",
   "execution_count": null,
   "id": "c3ce4d6f",
   "metadata": {},
   "outputs": [],
   "source": [
    "year_init, year_end = 2023, 2024\n",
    "year_init, year_end = 1998, 2024\n",
    "\n",
    "PATH_PLOT_CHL_YEARLY = IMG_PATH / \"chl_yearly\"\n",
    "PATH_PLOT_CHL_SEASONLY = IMG_PATH / \"chl_seasonly\"\n",
    "PATH_PLOT_CHL_YEARLY.mkdir(parents=True, exist_ok=True)\n",
    "PATH_PLOT_CHL_SEASONLY.mkdir(parents=True, exist_ok=True)\n",
    "\n",
    "\n",
    "# If any option (save or show plots) are eneabled, then run this code\n",
    "if SAVE_PLOTS or SHOW_PLOTS:\n",
    "    for year in range(year_init, year_end):\n",
    "        fig, axs = plot_chlorophyll_yearly(ds, str(year))\n",
    "\n",
    "        if SAVE_PLOTS:\n",
    "            fig.savefig(\n",
    "                PATH_PLOT_CHL_YEARLY / f\"chl_yearly_{year}.png\", bbox_inches=\"tight\"\n",
    "            )\n",
    "\n",
    "        if SHOW_PLOTS:\n",
    "            plt.show()\n",
    "        else:\n",
    "            plt.close(fig)\n",
    "\n",
    "        fig, axs = plot_chlorophyll_seasonly(ds, str(year))\n",
    "\n",
    "        if SAVE_PLOTS:\n",
    "            fig.savefig(\n",
    "                PATH_PLOT_CHL_SEASONLY / f\"chl_seasonly_{year}.png\", bbox_inches=\"tight\"\n",
    "            )\n",
    "\n",
    "        if SHOW_PLOTS:\n",
    "            plt.show()\n",
    "        else:\n",
    "            plt.close(fig)"
   ]
  },
  {
   "cell_type": "markdown",
   "id": "28cc3e82",
   "metadata": {},
   "source": [
    "The analysis highlights that the highest chlorophyll concentrations occur during the warmer seasons in the studied area of Chile, with the absolute peak typically observed in January. During this month, values can reach the 99th percentile, represented by the magenta color in the visualization. Given that chlorophyll levels act as a proxy for phytoplankton abundance, these findings strongly suggest increased phytoplankton activity during Chile's warmer periods.\n",
    "\n",
    "The data generally confirms this seasonal pattern for the Chilean location: significant chlorophyll concentrations are typically observed between early spring (September) and late autumn (May). Additionally, there is an observable upward trend in maximum chlorophyll concentrations over the years."
   ]
  },
  {
   "cell_type": "markdown",
   "id": "5a12a275",
   "metadata": {},
   "source": [
    "# Time Series Analysis"
   ]
  },
  {
   "cell_type": "markdown",
   "id": "f98d6cd3",
   "metadata": {},
   "source": [
    "Primero, buscaremos extraer la serie temporal de la región de interés. En esta serie temporal se calcularán métricas como la media y los percentiles 0, 0.25, 0.5, 0.75, y 1. Estas métricas se calcularán diariamente y se graficarán para observar la evolución de la serie temporal."
   ]
  },
  {
   "cell_type": "code",
   "execution_count": null,
   "id": "4018ab42",
   "metadata": {},
   "outputs": [],
   "source": [
    "delta = 2\n",
    "lat_poi, lon_poi = point_of_interest\n",
    "lon_min_sel, lon_max_sel = lon_poi - delta, lon_poi + delta\n",
    "lat_min_sel, lat_max_sel = lat_poi - delta, lat_poi + delta\n",
    "lon_min_sel = -71.5\n",
    "ds = ds.sel(lon=slice(lon_min_sel, lon_max_sel), lat=slice(lat_min_sel, lat_max_sel))"
   ]
  },
  {
   "cell_type": "code",
   "execution_count": null,
   "id": "075ec6a5",
   "metadata": {},
   "outputs": [],
   "source": [
    "lon_max = ds.lon.where(~np.isnan(ds.CHL[0, :, :])).max()\n",
    "\n",
    "ds = ds.sel(lat=slice(lat_min, lat_max), lon=slice(lon_min, lon_max))\n",
    "\n",
    "plot_chlorophyll(ds, 0)\n",
    "plt.show()"
   ]
  },
  {
   "cell_type": "code",
   "execution_count": null,
   "id": "c8dbad13",
   "metadata": {},
   "outputs": [],
   "source": [
    "# Daily mean chlorophyll-a concentration\n",
    "mean_chl_daily = ds.CHL.mean(dim=(\"lat\", \"lon\"))\n",
    "\n",
    "# Monthly mean chlorophyll-a concentration\n",
    "mean_chl_monthly = ds.CHL.resample(time=\"1ME\").mean().mean(dim=(\"lat\", \"lon\"))\n",
    "\n",
    "# Yearly mean chlorophyll-a concentration\n",
    "mean_chl_yearly = ds.CHL.resample(time=\"1YE\").mean().mean(dim=(\"lat\", \"lon\"))"
   ]
  },
  {
   "cell_type": "code",
   "execution_count": null,
   "id": "524fd4db",
   "metadata": {},
   "outputs": [],
   "source": [
    "def ds_to_df(ds: xr.Dataset, name: str, freq: str) -> pd.DataFrame:\n",
    "    \"\"\"\n",
    "    Convert an xarray dataset to a pandas DataFrame.\n",
    "\n",
    "    :param ds: xarray dataset to convert.\n",
    "    :param name: Name of the DataFrame's column.\n",
    "    :param freq: Frequency to resample the data. Must be a valid pandas frequency string.\n",
    "    :return: Pandas DataFrame with the data from the xarray dataset.\n",
    "    \"\"\"\n",
    "    df: pd.DataFrame = ds.to_dataframe(name=name)\n",
    "\n",
    "    df.reset_index(inplace=True)\n",
    "    df.set_index(\"time\", inplace=True)\n",
    "    # df = df.asfreq(freq)\n",
    "\n",
    "    return df"
   ]
  },
  {
   "cell_type": "code",
   "execution_count": null,
   "id": "7eb1d7cb",
   "metadata": {},
   "outputs": [],
   "source": [
    "mean_df_daily = ds_to_df(mean_chl_daily, \"mean_chl_daily\", \"D\")\n",
    "mean_df_monthly = ds_to_df(mean_chl_monthly, \"mean_chl_monthly\", \"ME\")\n",
    "mean_df_yearly = ds_to_df(mean_chl_yearly, \"mean_chl_yearly\", \"YE\")"
   ]
  },
  {
   "cell_type": "code",
   "execution_count": null,
   "id": "c564da00",
   "metadata": {},
   "outputs": [],
   "source": [
    "import statsmodels.tsa.seasonal as sm_seasonal\n",
    "\n",
    "\n",
    "def plot_seasonal_decompose(\n",
    "    ts: pd.Series,\n",
    "    period: int,\n",
    "    model: str = \"additive\",\n",
    "    range_: tuple[int, int] | None = None,\n",
    ") -> tuple[sm_seasonal.DecomposeResult, Figure]:\n",
    "    \"\"\"\n",
    "    Decompose a time series into trend, seasonal, and residual components.\n",
    "\n",
    "    :param ts: Time series to decompose.\n",
    "    :param period: Period of the seasonal component. Default is 12 for monthly data.\n",
    "    :param model: Type of decomposition model. Can be 'additive' or 'multiplicative'.\n",
    "    :param extrapolate_trend: Number of points to extrapolate the trend. Default is 0.\n",
    "    :return: Tuple of trend, seasonal, and residual components.\n",
    "    \"\"\"\n",
    "    if range_ is not None:\n",
    "        ts = ts[range_[0] : range_[1]]\n",
    "\n",
    "    result = sm_seasonal.seasonal_decompose(ts, model=model, period=period)\n",
    "\n",
    "    fig = result.plot()\n",
    "\n",
    "    return result, fig"
   ]
  },
  {
   "cell_type": "code",
   "execution_count": null,
   "id": "5a1c26c5",
   "metadata": {},
   "outputs": [],
   "source": [
    "SAVE_PLOTS = True\n",
    "SHOW_PLOTS = True"
   ]
  },
  {
   "cell_type": "code",
   "execution_count": null,
   "id": "bd0441f2",
   "metadata": {},
   "outputs": [],
   "source": [
    "SEASONAL_DECOMPOSE_PATH = IMG_PATH / \"seasonal_decompose\"\n",
    "SEASONAL_DECOMPOSE_PATH.mkdir(parents=True, exist_ok=True)\n",
    "\n",
    "\n",
    "time_series_list = [\n",
    "    (\"mean_daily\", mean_df_daily[\"mean_chl_daily\"], 365),\n",
    "    (\"mean_monthly\", mean_df_monthly[\"mean_chl_monthly\"], 12),\n",
    "    (\"mean_yearly\", mean_df_yearly[\"mean_chl_yearly\"], None),\n",
    "]\n",
    "\n",
    "\n",
    "if SAVE_PLOTS or SHOW_PLOTS:\n",
    "    for name, ts, period in time_series_list:\n",
    "        result, fig = plot_seasonal_decompose(ts, period=period, model=\"additive\")\n",
    "\n",
    "        if SAVE_PLOTS:\n",
    "            fig.savefig(\n",
    "                SEASONAL_DECOMPOSE_PATH / f\"seasonal_decompose_{name}.png\",\n",
    "                bbox_inches=\"tight\",\n",
    "            )\n",
    "\n",
    "        if SHOW_PLOTS:\n",
    "            plt.show()\n",
    "        else:\n",
    "            plt.close(fig)"
   ]
  },
  {
   "cell_type": "markdown",
   "id": "38cd250f",
   "metadata": {},
   "source": [
    "A partir de los gráficos generados se puede observar que la tendencia fue en aumento desde el año 1998 hasta el año 2003. Esta tendencia se mantuvo relativamente estable hasta el año 2022, donde presenta una disminución abrupta.\n",
    "\n",
    "La estacionalidad se ha mantenido en el tiempo, donde oscila entre los valores de 0.3 y -0.25, aunque esto se pueda deber a la ventana de tiempo que se ha utilizado para realizar el análisis. Para comprobarlo, se realizará una descomposición de la serie temporal con diferentes ventanas de tiempo.\n",
    "\n",
    "Por último, se observa que el residuo de la serie temporal presenta una alta variabilidad, superando con creces los valores de la tendencia y de la estacionalidad. Esto puede indicar que existe una alta variabilidad en la serie temporal, lo que puede dificultar la identificación de patrones y tendencias a largo plazo. Sin embargo, es importante tener en cuenta que esta variabilidad también puede ser el resultado de factores externos, como cambios climáticos o eventos naturales, que pueden afectar la concentración de clorofila en el océano."
   ]
  },
  {
   "cell_type": "code",
   "execution_count": null,
   "id": "a91d3426",
   "metadata": {},
   "outputs": [],
   "source": [
    "import statsmodels.tsa.stattools as sts\n",
    "\n",
    "sts.adfuller(mean_df_daily[\"mean_chl_daily\"])"
   ]
  },
  {
   "cell_type": "code",
   "execution_count": null,
   "id": "687c0c8d",
   "metadata": {},
   "outputs": [],
   "source": [
    "sts.adfuller(mean_df_monthly[\"mean_chl_monthly\"])"
   ]
  },
  {
   "cell_type": "code",
   "execution_count": null,
   "id": "9dffb432",
   "metadata": {},
   "outputs": [],
   "source": [
    "sts.adfuller(mean_df_yearly[\"mean_chl_yearly\"])"
   ]
  },
  {
   "cell_type": "code",
   "execution_count": null,
   "id": "fc3830df",
   "metadata": {},
   "outputs": [],
   "source": [
    "year_init, year_end = 2004, 2012\n",
    "\n",
    "range_daily = ((year_init - 1998) * 365, (year_end - 1998 + 1) * 365)\n",
    "range_monthly = ((year_init - 1998) * 12, (year_end - 1998 + 1) * 12)\n",
    "\n",
    "plot_seasonal_decompose(\n",
    "    mean_df_daily[\"mean_chl_daily\"], period=365, model=\"additive\", range_=range_daily\n",
    ")\n",
    "\n",
    "plot_seasonal_decompose(\n",
    "    mean_df_monthly[\"mean_chl_monthly\"],\n",
    "    period=12,\n",
    "    model=\"additive\",\n",
    "    range_=range_monthly,\n",
    ")"
   ]
  },
  {
   "cell_type": "code",
   "execution_count": null,
   "id": "e988018a",
   "metadata": {},
   "outputs": [],
   "source": [
    "year_init, year_end = 2012, 2020\n",
    "\n",
    "range_daily = ((year_init - 1998) * 365, (year_end - 1998 + 1) * 365)\n",
    "range_monthly = ((year_init - 1998) * 12, (year_end - 1998 + 1) * 12)\n",
    "\n",
    "plot_seasonal_decompose(\n",
    "    mean_df_daily[\"mean_chl_daily\"], period=365, model=\"additive\", range_=range_daily\n",
    ")\n",
    "\n",
    "plot_seasonal_decompose(\n",
    "    mean_df_monthly[\"mean_chl_monthly\"],\n",
    "    period=12,\n",
    "    model=\"additive\",\n",
    "    range_=range_monthly,\n",
    ")"
   ]
  },
  {
   "cell_type": "code",
   "execution_count": null,
   "id": "f9b10cb8",
   "metadata": {},
   "outputs": [],
   "source": [
    "year_init, year_end = 2016, 2024\n",
    "\n",
    "range_daily = ((year_init - 1998) * 365, (year_end - 1998 + 1) * 365)\n",
    "range_monthly = ((year_init - 1998) * 12, (year_end - 1998 + 1) * 12)\n",
    "\n",
    "plot_seasonal_decompose(\n",
    "    mean_df_daily[\"mean_chl_daily\"], period=365, model=\"additive\", range_=range_daily\n",
    ")\n",
    "\n",
    "plot_seasonal_decompose(\n",
    "    mean_df_monthly[\"mean_chl_monthly\"],\n",
    "    period=12,\n",
    "    model=\"additive\",\n",
    "    range_=range_monthly,\n",
    ")"
   ]
  },
  {
   "cell_type": "code",
   "execution_count": null,
   "id": "65cea60d",
   "metadata": {},
   "outputs": [],
   "source": [
    "year_init, year_end = 1998, 2004\n",
    "\n",
    "range_daily = ((year_init - 1998) * 365, (year_end - 1998 + 1) * 365)\n",
    "range_monthly = ((year_init - 1998) * 12, (year_end - 1998 + 1) * 12)\n",
    "\n",
    "plot_seasonal_decompose(\n",
    "    mean_df_daily[\"mean_chl_daily\"], period=365, model=\"additive\", range_=range_daily\n",
    ")\n",
    "\n",
    "plot_seasonal_decompose(\n",
    "    mean_df_monthly[\"mean_chl_monthly\"],\n",
    "    period=12,\n",
    "    model=\"additive\",\n",
    "    range_=range_monthly,\n",
    ")"
   ]
  },
  {
   "cell_type": "code",
   "execution_count": null,
   "id": "bc41b725",
   "metadata": {},
   "outputs": [],
   "source": []
  },
  {
   "cell_type": "markdown",
   "id": "f0ffb500",
   "metadata": {},
   "source": [
    "A partir de los gráficos generados se puede observar que la tendencia fue en aumento desde el año 1998 hasta el año 2003. Esta tendencia se mantuvo relativamente estable hasta el año 2022, donde presenta una disminución abrupta.\n",
    "\n",
    "La estacionalidad se ha mantenido en el tiempo, donde oscila entre los valores de 0.25 para la media y "
   ]
  },
  {
   "cell_type": "code",
   "execution_count": null,
   "id": "34a42584",
   "metadata": {},
   "outputs": [],
   "source": []
  }
 ],
 "metadata": {
  "kernelspec": {
   "display_name": ".venv",
   "language": "python",
   "name": "python3"
  },
  "language_info": {
   "codemirror_mode": {
    "name": "ipython",
    "version": 3
   },
   "file_extension": ".py",
   "mimetype": "text/x-python",
   "name": "python",
   "nbconvert_exporter": "python",
   "pygments_lexer": "ipython3",
   "version": "3.12.3"
  }
 },
 "nbformat": 4,
 "nbformat_minor": 5
}
